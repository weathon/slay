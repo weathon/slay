{
  "nbformat": 4,
  "nbformat_minor": 0,
  "metadata": {
    "colab": {
      "provenance": [],
      "authorship_tag": "ABX9TyMFt6QOtB4JRByQ4voAApkb",
      "include_colab_link": true
    },
    "kernelspec": {
      "name": "python3",
      "display_name": "Python 3"
    },
    "language_info": {
      "name": "python"
    }
  },
  "cells": [
    {
      "cell_type": "markdown",
      "metadata": {
        "id": "view-in-github",
        "colab_type": "text"
      },
      "source": [
        "<a href=\"https://colab.research.google.com/github/weathon/slay/blob/main/SlayTree_vs_OldCMT.ipynb\" target=\"_parent\"><img src=\"https://colab.research.google.com/assets/colab-badge.svg\" alt=\"Open In Colab\"/></a>"
      ]
    },
    {
      "cell_type": "code",
      "execution_count": 91,
      "metadata": {
        "id": "vmtt-NzoVeqx"
      },
      "outputs": [],
      "source": [
        "import pylab\n",
        "import numpy as np"
      ]
    },
    {
      "cell_type": "code",
      "source": [
        "import numpy as np\n",
        "import pandas as pd \n",
        "import random\n",
        "import pylab \n",
        "import multiprocessing\n",
        "import time\n",
        "from pyrsistent import l\n",
        "import timeit\n",
        "\n",
        "def ifNone(a):\n",
        "    if type(a) == type(None):\n",
        "        return True\n",
        "    else:\n",
        "        return False\n",
        "\n",
        "def maxPerArg(list1, list2):\n",
        "    if len(list1) != len(list2):\n",
        "        raise Exception(\"OOBA %s,%s\" % (len(list1), len(list2)))\n",
        "    ans = list1[:]\n",
        "    for i in range(len(list1)):\n",
        "        if list2[i]>list1[i]:\n",
        "            ans[i] = list2[i]\n",
        "    return ans\n",
        "\n",
        "def minPerArg(list1, list2):\n",
        "    if len(list1) != len(list2):\n",
        "        raise Exception(\"OOBA %s,%s\" % (len(list1), len(list2)))\n",
        "    ans = list1[:]\n",
        "    for i in range(len(list1)):\n",
        "        if list2[i]<list1[i]:\n",
        "            ans[i] = list2[i]\n",
        "    return ans\n",
        "\n",
        "class dataPoint:\n",
        "    def __init__(self, d, id):\n",
        "        self.data = d\n",
        "        self.id = id\n",
        "        self.ancestorsDistances = {}\n",
        "        self.ancestorsDistancesList = []\n",
        "        self.distanceFromDad = -1\n",
        "        self.max = -1\n",
        "        self.min = -1\n",
        "        self.fars = [-1]\n",
        "        self.nears = [-1]\n",
        "    def __str__(self):\n",
        "        return str(self.data)\n",
        "\n",
        "def randomArray(size):\n",
        "    ans = []\n",
        "    for i in range(size):\n",
        "        ans.append(random.random())\n",
        "    return np.array(ans)\n",
        "\n",
        "\n",
        "\n",
        "class BallTreeNode:\n",
        "  def __init__(self):\n",
        "    self.myobject = None\n",
        "    self.inner = None\n",
        "    self.outer = None\n",
        "    self.left = None\n",
        "    self.right = None\n",
        "    self.count = 0\n",
        "\n",
        "def getData(myArray):\n",
        "    myArray.sort(key=lambda x: x.distanceFromDad)\n",
        "    theMax = myArray[-1].distanceFromDad\n",
        "    theMin = myArray[0].distanceFromDad\n",
        "    inner = myArray[int(len(myArray)/2)-1].distanceFromDad\n",
        "    outer = myArray[int(len(myArray)/2)].distanceFromDad\n",
        "    return theMax, theMin, inner, outer, myArray\n",
        "\n",
        "\n",
        "counts = 0\n",
        "def d(a, b, r=0):\n",
        "  global counts\n",
        "  a, b = a.data, b.data\n",
        "  counts+=1\n",
        "  return np.sqrt(np.sum((a-b)**2))\n",
        "\n",
        "\n",
        "def ConstructBallTree(BT, localobjects):\n",
        "  if len(localobjects)==0:\n",
        "    return BT\n",
        "  if len(localobjects)==1:\n",
        "    BT.myobject = localobjects[0]\n",
        "    BT.inner = 0\n",
        "    BT.outer = 0\n",
        "    BT.count = 1\n",
        "    return BT\n",
        "  selectedIndex = random.randint(0,len(localobjects)-1)\n",
        "  localobjects[-1], localobjects[selectedIndex] = localobjects[selectedIndex], localobjects[-1] \n",
        "  BT.myobject = localobjects[-1]\n",
        "  localobjects = localobjects[:-1]\n",
        "  \n",
        "  \n",
        "  for i in range(len(localobjects)):\n",
        "    localobjects[i].distanceFromDad=d(BT.myobject, localobjects[i])\n",
        "    localobjects[i].ancestorsDistancesList.append(localobjects[i].distanceFromDad)\n",
        "  \n",
        "  BT.myobject.max, BT.myobject.min, BT.inner, BT.outer, sortedlocalobjects = getData(localobjects)\n",
        "\n",
        "  \n",
        "  \n",
        "\n",
        "  L = []\n",
        "  R = []\n",
        "  for i in range(len(localobjects)):\n",
        "    if localobjects[i].distanceFromDad<=BT.inner:\n",
        "      L.append(localobjects[i])\n",
        "    elif localobjects[i].distanceFromDad>=BT.outer:\n",
        "      R.append(localobjects[i])\n",
        "    else:\n",
        "      print(\"where am i\", BT.inner,BT.outer)\n",
        "\n",
        "  BT.count = len(localobjects)\n",
        "\n",
        "  if len(L) != 0:\n",
        "    BT.left = ConstructBallTree(BallTreeNode(),L)\n",
        "  if len(R) != 0:\n",
        "    BT.right = ConstructBallTree(BallTreeNode(),R)\n",
        "  \n",
        "  \n",
        "\n",
        "  return BT\n",
        "\n",
        "\n",
        "def generateCMTData(BT):\n",
        "    if ifNone(BT):\n",
        "        return [], []\n",
        "    Lnear, Lfar = generateCMTData(BT.left)\n",
        "    Rnear, Rfar = generateCMTData(BT.right)\n",
        "    Lnear, Lfar, Rnear, Rfar = Lnear[:-1], Lfar[:-1], Rnear[:-1], Rfar[:-1]\n",
        "    \n",
        "    if len(Lnear) != 0 and len(Rnear) != 0:\n",
        "        \n",
        "        BT.myobject.nears = minPerArg(minPerArg(Lnear, Rnear), BT.myobject.ancestorsDistancesList)\n",
        "        BT.myobject.fars = maxPerArg(maxPerArg(Lfar, Rfar), BT.myobject.ancestorsDistancesList)\n",
        "    elif len(Lnear) != 0:\n",
        "        \n",
        "        BT.myobject.nears = minPerArg(Lnear, BT.myobject.ancestorsDistancesList)\n",
        "        BT.myobject.fars = maxPerArg(Lfar, BT.myobject.ancestorsDistancesList)\n",
        "    elif len(Rnear) != 0:\n",
        "        \n",
        "        BT.myobject.nears = minPerArg(Rnear, BT.myobject.ancestorsDistancesList)\n",
        "        BT.myobject.fars = maxPerArg(Rfar, BT.myobject.ancestorsDistancesList)\n",
        "    elif len(Rnear) == 0 and len(Lnear) == 0:\n",
        "    \n",
        "        \n",
        "        BT.myobject.nears = BT.myobject.ancestorsDistancesList\n",
        "        BT.myobject.fars = BT.myobject.ancestorsDistancesList \n",
        "        \n",
        "        \n",
        "        \n",
        "    \n",
        "    \n",
        "    returnNear = BT.myobject.nears\n",
        "    returnFar = BT.myobject.fars\n",
        "\n",
        "    return returnNear, returnFar\n",
        "    \n",
        "\n",
        "\n",
        "\n",
        "def maxPD(stack, node): \n",
        "    nears = node.myobject.nears\n",
        "    fars = node.myobject.fars\n",
        "    if len(stack) != len(fars):\n",
        "        \n",
        "        raise Exception(\"stack and fars not match %s, %s\" %(len(stack), len(fars)))\n",
        "    maxPDV = 0\n",
        "    for i in range(len(stack)):\n",
        "        \n",
        "        if fars[i] < stack[i]:\n",
        "            \n",
        "            maxPDV = max(maxPDV, stack[i] - fars[i]) \n",
        "        elif nears[i] > stack[i]:\n",
        "            maxPDV = max(maxPDV, nears[i] - stack[i])\n",
        "    # print(maxPDV)\n",
        "    return maxPDV\n",
        "        \n",
        "\n",
        "def CMTSearchRadius(BT, Object, r, ans):\n",
        "  global stack\n",
        "  if BT == None:\n",
        "    return\n",
        "\n",
        "  maxPDV = maxPD(stack, BT) \n",
        "      \n",
        "  if maxPDV > r:\n",
        "    return\n",
        "    \n",
        "  dis = d(Object, BT.myobject, r)\n",
        "    \n",
        "  if dis <= r:\n",
        "    ans.append(BT.myobject)  \n",
        "\n",
        "  if type(BT.myobject.max) != type(None):\n",
        "    if dis > BT.myobject.max:\n",
        "      if dis - BT.myobject.max > r: \n",
        "        return\n",
        "\n",
        "  if type(BT.myobject.min) != type(None):\n",
        "    if dis < BT.myobject.min:\n",
        "      if BT.myobject.min - dis > r:\n",
        "        return  \n",
        "  \n",
        "  stack.append(dis)\n",
        "  if dis + r >= BT.outer:\n",
        "    CMTSearchRadius(BT.right, Object, r, ans)\n",
        "  if BT.inner >= dis - r:                              \n",
        "    CMTSearchRadius(BT.left, Object, r, ans)\n",
        "  stack.pop()"
      ],
      "metadata": {
        "id": "jO6kZs0VmEaW"
      },
      "execution_count": 92,
      "outputs": []
    },
    {
      "cell_type": "code",
      "source": [
        "Objects = []\n",
        "for i in range(10000):\n",
        "  tmp = dataPoint(randomArray(5), i)\n",
        "  Objects.append(tmp)\n",
        "\n",
        "\n",
        "counts = 0\n",
        "begin = time.time()\n",
        "NewBT = ConstructBallTree(BallTreeNode(),Objects)\n",
        "end = time.time()\n",
        "print(\"Construction time:\", (end-begin)*1000)\n",
        "\n",
        "begin = time.time()\n",
        "generateCMTData(NewBT)\n",
        "end = time.time()\n",
        "print(\"CMT Data time:\", (end-begin)*1000)\n"
      ],
      "metadata": {
        "colab": {
          "base_uri": "https://localhost:8080/"
        },
        "id": "WcPrll_TpEpu",
        "outputId": "049bb800-54de-4e24-b816-5b9aafd70ff5"
      },
      "execution_count": 93,
      "outputs": [
        {
          "output_type": "stream",
          "name": "stdout",
          "text": [
            "Construction time: 1619.6706295013428\n",
            "CMT Data time: 71.49791717529297\n"
          ]
        }
      ]
    },
    {
      "cell_type": "code",
      "source": [
        "class TreeNode:\n",
        "  def __init__(self, objectA, objectB):\n",
        "    self.objectA = objectA\n",
        "    self.objectB = objectB\n",
        "    if not objectB is None and not objectA is None:\n",
        "      self.halfway = d(objectA, objectB)\n",
        "    self.left = None\n",
        "    self.right = None\n",
        "  \n",
        "  def __str__(self):\n",
        "    return str((self.objectA, self.objectB))"
      ],
      "metadata": {
        "id": "a_O72y6FXNb5"
      },
      "execution_count": 94,
      "outputs": []
    },
    {
      "cell_type": "code",
      "source": [
        "def buildTree(objects):\n",
        "  if len(objects)==0:\n",
        "    return None\n",
        "  if len(objects) == 1:\n",
        "    root = TreeNode(objects[0], None)\n",
        "    return root\n",
        "  elif len(objects) == 2:\n",
        "    root = TreeNode(objects[0], objects[1])\n",
        "    return root\n",
        "\n",
        "  center1 = 0 #why default 50??\n",
        "  center2 = -1\n",
        "\n",
        "  maxD = -1\n",
        "\n",
        "  for i in range(len(objects)):\n",
        "    dis = d(objects[i], objects[center1])\n",
        "    if dis>maxD:\n",
        "      maxD=dis\n",
        "      center2=i\n",
        "    \n",
        "  maxD = -1\n",
        "\n",
        "  for i in range(len(objects)):\n",
        "    dis = d(objects[i], objects[center2])\n",
        "    if dis>maxD:\n",
        "      maxD=dis\n",
        "      center1=i\n",
        "  # print(center1, center2, len(objects))\n",
        "  root = TreeNode(objects[center1], objects[center2])\n",
        "\n",
        "  del objects[center1]\n",
        "  if center1<center2:\n",
        "     del objects[center2-1] #opmization needed\n",
        "  else:\n",
        "    del objects[center2] \n",
        "  # I got it center1 and 2 are not indexes!!! mix index and ID again\n",
        "  left = []\n",
        "  right = []\n",
        "\n",
        "  for i in objects:\n",
        "    if d(i, root.objectA) < d(i, root.objectB):\n",
        "      left.append(i)\n",
        "    else:\n",
        "      right.append(i)\n",
        "\n",
        "  # print(len(left),len(right),len(objects))\n",
        "  # if root.objectA in left:\n",
        "  # # if root.objectA in left: wtf not in objects but in left? oh i got it it is range objects i got it\n",
        "  #   print(\"WTF\")\n",
        "  root.left = buildTree(left)\n",
        "  root.right = buildTree(right)\n",
        "  return root"
      ],
      "metadata": {
        "id": "54QlZigjakP6"
      },
      "execution_count": 95,
      "outputs": []
    },
    {
      "cell_type": "code",
      "source": [
        "def searchBF(objects, id, r):\n",
        "  ans = []\n",
        "  for i in objects:\n",
        "    if d(id, i)<=r:\n",
        "      ans.append(i)\n",
        "  return ans"
      ],
      "metadata": {
        "id": "9qmPtOcJbw9k"
      },
      "execution_count": 96,
      "outputs": []
    },
    {
      "cell_type": "code",
      "source": [
        "def searchTree(root, id, r, ans):\n",
        "  if root == None: #empty, since it is not inited\n",
        "    return\n",
        "  if root.objectB == None:\n",
        "    dA = d(root.objectA, id)\n",
        "    if dA<=r:\n",
        "      ans.append(root.objectA)\n",
        "    return\n",
        "\n",
        "  dA = d(root.objectA, id)\n",
        "  dB = d(root.objectB, id)\n",
        "  if dA<=r:\n",
        "    ans.append(root.objectA)\n",
        "  if dB <= r:\n",
        "    ans.append(root.objectB)\n",
        "\n",
        "  # halfway = d(root.objectA, root.objectB) #(could be precomputed)\n",
        "  \n",
        "  if dA-r<=dB+r: \n",
        "    searchTree(root.left,id,r, ans)\n",
        "  if dB-r<=dA+r: \n",
        "    searchTree(root.right,id,r, ans)"
      ],
      "metadata": {
        "id": "y0afk4g7cEVw"
      },
      "execution_count": 97,
      "outputs": []
    },
    {
      "cell_type": "code",
      "source": [
        "# objectSets = []\n",
        "# for i in range(10000):\n",
        "#   tmp = dataPoint([random.random(), random.random()], i)\n",
        "\n",
        "objectSets = []\n",
        "for i in range(10000):\n",
        "  tmp = dataPoint(randomArray(5), i)\n",
        "  objectSets.append(tmp)\n",
        "\n",
        "\n",
        "counts = 0\n",
        "\n",
        "slaytree = buildTree(objectSets)\n",
        "CMT = ConstructBallTree(BallTreeNode(), objectSets)\n",
        "generateCMTData(CMT)"
      ],
      "metadata": {
        "colab": {
          "base_uri": "https://localhost:8080/"
        },
        "id": "0L5U2WX-NVOD",
        "outputId": "4f389a2c-f1e0-44ed-90ec-6ea573ea0084"
      },
      "execution_count": 98,
      "outputs": [
        {
          "output_type": "execute_result",
          "data": {
            "text/plain": [
              "([], [])"
            ]
          },
          "metadata": {},
          "execution_count": 98
        }
      ]
    },
    {
      "cell_type": "code",
      "source": [],
      "metadata": {
        "colab": {
          "base_uri": "https://localhost:8080/"
        },
        "id": "PIguFZDnqvXI",
        "outputId": "e4fe8eda-7f85-46e8-cff5-0b941c512d37"
      },
      "execution_count": 99,
      "outputs": [
        {
          "output_type": "execute_result",
          "data": {
            "text/plain": [
              "7"
            ]
          },
          "metadata": {},
          "execution_count": 99
        }
      ]
    },
    {
      "cell_type": "code",
      "source": [
        "for target in range(300):\n",
        "  r = random.random()*1.2\n",
        "  ans1 = searchBF(objectSets, objectSets[target], r)\n",
        "  ans2 = []\n",
        "  searchTree(slaytree, objectSets[target], r, ans2)\n",
        "  ans3 = []\n",
        "  stack =[]\n",
        "  CMTSearchRadius(CMT, objectSets[target], r, ans3)\n",
        "  print(len(ans1), len(ans2), len(ans3))"
      ],
      "metadata": {
        "colab": {
          "base_uri": "https://localhost:8080/",
          "height": 1000
        },
        "id": "RnEvbKglq15Q",
        "outputId": "398bad2c-8256-4ecd-f2d0-48817c0d573e"
      },
      "execution_count": 105,
      "outputs": [
        {
          "output_type": "stream",
          "name": "stdout",
          "text": [
            "1 1 1\n",
            "657 657 657\n",
            "5501 5502 5501\n",
            "5190 5190 5190\n",
            "7211 7211 7211\n",
            "2858 2858 2858\n",
            "1 1 1\n",
            "5353 5354 5353\n",
            "879 879 879\n",
            "2660 2660 2660\n",
            "1 1 1\n",
            "6472 6472 6472\n",
            "525 525 525\n",
            "791 791 791\n",
            "8530 8531 8530\n",
            "4492 4492 4492\n",
            "1931 1931 1931\n",
            "2 2 2\n",
            "2 2 2\n",
            "13 13 13\n",
            "45 45 45\n",
            "4154 4154 4154\n",
            "92 92 92\n",
            "2905 2905 2905\n",
            "1 1 1\n",
            "2911 2911 2911\n",
            "9092 9093 9092\n",
            "465 465 465\n",
            "1 1 1\n",
            "1481 1482 1481\n",
            "107 108 107\n",
            "2 2 2\n",
            "218 218 218\n",
            "1546 1546 1546\n",
            "8418 8419 8418\n",
            "6644 6644 6644\n",
            "5890 5890 5890\n",
            "5307 5308 5307\n",
            "13 13 13\n",
            "1 1 1\n",
            "7880 7880 7880\n",
            "1 1 1\n",
            "2 2 2\n",
            "3715 3715 3715\n",
            "9003 9004 9003\n",
            "818 818 818\n",
            "67 67 67\n",
            "5187 5187 5187\n",
            "4287 4287 4287\n"
          ]
        },
        {
          "output_type": "error",
          "ename": "KeyboardInterrupt",
          "evalue": "ignored",
          "traceback": [
            "\u001b[0;31m---------------------------------------------------------------------------\u001b[0m",
            "\u001b[0;31mKeyboardInterrupt\u001b[0m                         Traceback (most recent call last)",
            "\u001b[0;32m<ipython-input-105-07b3b18965f4>\u001b[0m in \u001b[0;36m<cell line: 1>\u001b[0;34m()\u001b[0m\n\u001b[1;32m      6\u001b[0m   \u001b[0mans3\u001b[0m \u001b[0;34m=\u001b[0m \u001b[0;34m[\u001b[0m\u001b[0;34m]\u001b[0m\u001b[0;34m\u001b[0m\u001b[0;34m\u001b[0m\u001b[0m\n\u001b[1;32m      7\u001b[0m   \u001b[0mstack\u001b[0m \u001b[0;34m=\u001b[0m\u001b[0;34m[\u001b[0m\u001b[0;34m]\u001b[0m\u001b[0;34m\u001b[0m\u001b[0;34m\u001b[0m\u001b[0m\n\u001b[0;32m----> 8\u001b[0;31m   \u001b[0mCMTSearchRadius\u001b[0m\u001b[0;34m(\u001b[0m\u001b[0mCMT\u001b[0m\u001b[0;34m,\u001b[0m \u001b[0mobjectSets\u001b[0m\u001b[0;34m[\u001b[0m\u001b[0mtarget\u001b[0m\u001b[0;34m]\u001b[0m\u001b[0;34m,\u001b[0m \u001b[0mr\u001b[0m\u001b[0;34m,\u001b[0m \u001b[0mans3\u001b[0m\u001b[0;34m)\u001b[0m\u001b[0;34m\u001b[0m\u001b[0;34m\u001b[0m\u001b[0m\n\u001b[0m\u001b[1;32m      9\u001b[0m   \u001b[0mprint\u001b[0m\u001b[0;34m(\u001b[0m\u001b[0mlen\u001b[0m\u001b[0;34m(\u001b[0m\u001b[0mans1\u001b[0m\u001b[0;34m)\u001b[0m\u001b[0;34m,\u001b[0m \u001b[0mlen\u001b[0m\u001b[0;34m(\u001b[0m\u001b[0mans2\u001b[0m\u001b[0;34m)\u001b[0m\u001b[0;34m,\u001b[0m \u001b[0mlen\u001b[0m\u001b[0;34m(\u001b[0m\u001b[0mans3\u001b[0m\u001b[0;34m)\u001b[0m\u001b[0;34m)\u001b[0m\u001b[0;34m\u001b[0m\u001b[0;34m\u001b[0m\u001b[0m\n",
            "\u001b[0;32m<ipython-input-92-d78935d8bbcc>\u001b[0m in \u001b[0;36mCMTSearchRadius\u001b[0;34m(BT, Object, r, ans)\u001b[0m\n\u001b[1;32m    208\u001b[0m   \u001b[0mstack\u001b[0m\u001b[0;34m.\u001b[0m\u001b[0mappend\u001b[0m\u001b[0;34m(\u001b[0m\u001b[0mdis\u001b[0m\u001b[0;34m)\u001b[0m\u001b[0;34m\u001b[0m\u001b[0;34m\u001b[0m\u001b[0m\n\u001b[1;32m    209\u001b[0m   \u001b[0;32mif\u001b[0m \u001b[0mdis\u001b[0m \u001b[0;34m+\u001b[0m \u001b[0mr\u001b[0m \u001b[0;34m>=\u001b[0m \u001b[0mBT\u001b[0m\u001b[0;34m.\u001b[0m\u001b[0mouter\u001b[0m\u001b[0;34m:\u001b[0m\u001b[0;34m\u001b[0m\u001b[0;34m\u001b[0m\u001b[0m\n\u001b[0;32m--> 210\u001b[0;31m     \u001b[0mCMTSearchRadius\u001b[0m\u001b[0;34m(\u001b[0m\u001b[0mBT\u001b[0m\u001b[0;34m.\u001b[0m\u001b[0mright\u001b[0m\u001b[0;34m,\u001b[0m \u001b[0mObject\u001b[0m\u001b[0;34m,\u001b[0m \u001b[0mr\u001b[0m\u001b[0;34m,\u001b[0m \u001b[0mans\u001b[0m\u001b[0;34m)\u001b[0m\u001b[0;34m\u001b[0m\u001b[0;34m\u001b[0m\u001b[0m\n\u001b[0m\u001b[1;32m    211\u001b[0m   \u001b[0;32mif\u001b[0m \u001b[0mBT\u001b[0m\u001b[0;34m.\u001b[0m\u001b[0minner\u001b[0m \u001b[0;34m>=\u001b[0m \u001b[0mdis\u001b[0m \u001b[0;34m-\u001b[0m \u001b[0mr\u001b[0m\u001b[0;34m:\u001b[0m\u001b[0;34m\u001b[0m\u001b[0;34m\u001b[0m\u001b[0m\n\u001b[1;32m    212\u001b[0m     \u001b[0mCMTSearchRadius\u001b[0m\u001b[0;34m(\u001b[0m\u001b[0mBT\u001b[0m\u001b[0;34m.\u001b[0m\u001b[0mleft\u001b[0m\u001b[0;34m,\u001b[0m \u001b[0mObject\u001b[0m\u001b[0;34m,\u001b[0m \u001b[0mr\u001b[0m\u001b[0;34m,\u001b[0m \u001b[0mans\u001b[0m\u001b[0;34m)\u001b[0m\u001b[0;34m\u001b[0m\u001b[0;34m\u001b[0m\u001b[0m\n",
            "\u001b[0;32m<ipython-input-92-d78935d8bbcc>\u001b[0m in \u001b[0;36mCMTSearchRadius\u001b[0;34m(BT, Object, r, ans)\u001b[0m\n\u001b[1;32m    210\u001b[0m     \u001b[0mCMTSearchRadius\u001b[0m\u001b[0;34m(\u001b[0m\u001b[0mBT\u001b[0m\u001b[0;34m.\u001b[0m\u001b[0mright\u001b[0m\u001b[0;34m,\u001b[0m \u001b[0mObject\u001b[0m\u001b[0;34m,\u001b[0m \u001b[0mr\u001b[0m\u001b[0;34m,\u001b[0m \u001b[0mans\u001b[0m\u001b[0;34m)\u001b[0m\u001b[0;34m\u001b[0m\u001b[0;34m\u001b[0m\u001b[0m\n\u001b[1;32m    211\u001b[0m   \u001b[0;32mif\u001b[0m \u001b[0mBT\u001b[0m\u001b[0;34m.\u001b[0m\u001b[0minner\u001b[0m \u001b[0;34m>=\u001b[0m \u001b[0mdis\u001b[0m \u001b[0;34m-\u001b[0m \u001b[0mr\u001b[0m\u001b[0;34m:\u001b[0m\u001b[0;34m\u001b[0m\u001b[0;34m\u001b[0m\u001b[0m\n\u001b[0;32m--> 212\u001b[0;31m     \u001b[0mCMTSearchRadius\u001b[0m\u001b[0;34m(\u001b[0m\u001b[0mBT\u001b[0m\u001b[0;34m.\u001b[0m\u001b[0mleft\u001b[0m\u001b[0;34m,\u001b[0m \u001b[0mObject\u001b[0m\u001b[0;34m,\u001b[0m \u001b[0mr\u001b[0m\u001b[0;34m,\u001b[0m \u001b[0mans\u001b[0m\u001b[0;34m)\u001b[0m\u001b[0;34m\u001b[0m\u001b[0;34m\u001b[0m\u001b[0m\n\u001b[0m\u001b[1;32m    213\u001b[0m   \u001b[0mstack\u001b[0m\u001b[0;34m.\u001b[0m\u001b[0mpop\u001b[0m\u001b[0;34m(\u001b[0m\u001b[0;34m)\u001b[0m\u001b[0;34m\u001b[0m\u001b[0;34m\u001b[0m\u001b[0m\n",
            "\u001b[0;32m<ipython-input-92-d78935d8bbcc>\u001b[0m in \u001b[0;36mCMTSearchRadius\u001b[0;34m(BT, Object, r, ans)\u001b[0m\n\u001b[1;32m    208\u001b[0m   \u001b[0mstack\u001b[0m\u001b[0;34m.\u001b[0m\u001b[0mappend\u001b[0m\u001b[0;34m(\u001b[0m\u001b[0mdis\u001b[0m\u001b[0;34m)\u001b[0m\u001b[0;34m\u001b[0m\u001b[0;34m\u001b[0m\u001b[0m\n\u001b[1;32m    209\u001b[0m   \u001b[0;32mif\u001b[0m \u001b[0mdis\u001b[0m \u001b[0;34m+\u001b[0m \u001b[0mr\u001b[0m \u001b[0;34m>=\u001b[0m \u001b[0mBT\u001b[0m\u001b[0;34m.\u001b[0m\u001b[0mouter\u001b[0m\u001b[0;34m:\u001b[0m\u001b[0;34m\u001b[0m\u001b[0;34m\u001b[0m\u001b[0m\n\u001b[0;32m--> 210\u001b[0;31m     \u001b[0mCMTSearchRadius\u001b[0m\u001b[0;34m(\u001b[0m\u001b[0mBT\u001b[0m\u001b[0;34m.\u001b[0m\u001b[0mright\u001b[0m\u001b[0;34m,\u001b[0m \u001b[0mObject\u001b[0m\u001b[0;34m,\u001b[0m \u001b[0mr\u001b[0m\u001b[0;34m,\u001b[0m \u001b[0mans\u001b[0m\u001b[0;34m)\u001b[0m\u001b[0;34m\u001b[0m\u001b[0;34m\u001b[0m\u001b[0m\n\u001b[0m\u001b[1;32m    211\u001b[0m   \u001b[0;32mif\u001b[0m \u001b[0mBT\u001b[0m\u001b[0;34m.\u001b[0m\u001b[0minner\u001b[0m \u001b[0;34m>=\u001b[0m \u001b[0mdis\u001b[0m \u001b[0;34m-\u001b[0m \u001b[0mr\u001b[0m\u001b[0;34m:\u001b[0m\u001b[0;34m\u001b[0m\u001b[0;34m\u001b[0m\u001b[0m\n\u001b[1;32m    212\u001b[0m     \u001b[0mCMTSearchRadius\u001b[0m\u001b[0;34m(\u001b[0m\u001b[0mBT\u001b[0m\u001b[0;34m.\u001b[0m\u001b[0mleft\u001b[0m\u001b[0;34m,\u001b[0m \u001b[0mObject\u001b[0m\u001b[0;34m,\u001b[0m \u001b[0mr\u001b[0m\u001b[0;34m,\u001b[0m \u001b[0mans\u001b[0m\u001b[0;34m)\u001b[0m\u001b[0;34m\u001b[0m\u001b[0;34m\u001b[0m\u001b[0m\n",
            "\u001b[0;32m<ipython-input-92-d78935d8bbcc>\u001b[0m in \u001b[0;36mCMTSearchRadius\u001b[0;34m(BT, Object, r, ans)\u001b[0m\n\u001b[1;32m    208\u001b[0m   \u001b[0mstack\u001b[0m\u001b[0;34m.\u001b[0m\u001b[0mappend\u001b[0m\u001b[0;34m(\u001b[0m\u001b[0mdis\u001b[0m\u001b[0;34m)\u001b[0m\u001b[0;34m\u001b[0m\u001b[0;34m\u001b[0m\u001b[0m\n\u001b[1;32m    209\u001b[0m   \u001b[0;32mif\u001b[0m \u001b[0mdis\u001b[0m \u001b[0;34m+\u001b[0m \u001b[0mr\u001b[0m \u001b[0;34m>=\u001b[0m \u001b[0mBT\u001b[0m\u001b[0;34m.\u001b[0m\u001b[0mouter\u001b[0m\u001b[0;34m:\u001b[0m\u001b[0;34m\u001b[0m\u001b[0;34m\u001b[0m\u001b[0m\n\u001b[0;32m--> 210\u001b[0;31m     \u001b[0mCMTSearchRadius\u001b[0m\u001b[0;34m(\u001b[0m\u001b[0mBT\u001b[0m\u001b[0;34m.\u001b[0m\u001b[0mright\u001b[0m\u001b[0;34m,\u001b[0m \u001b[0mObject\u001b[0m\u001b[0;34m,\u001b[0m \u001b[0mr\u001b[0m\u001b[0;34m,\u001b[0m \u001b[0mans\u001b[0m\u001b[0;34m)\u001b[0m\u001b[0;34m\u001b[0m\u001b[0;34m\u001b[0m\u001b[0m\n\u001b[0m\u001b[1;32m    211\u001b[0m   \u001b[0;32mif\u001b[0m \u001b[0mBT\u001b[0m\u001b[0;34m.\u001b[0m\u001b[0minner\u001b[0m \u001b[0;34m>=\u001b[0m \u001b[0mdis\u001b[0m \u001b[0;34m-\u001b[0m \u001b[0mr\u001b[0m\u001b[0;34m:\u001b[0m\u001b[0;34m\u001b[0m\u001b[0;34m\u001b[0m\u001b[0m\n\u001b[1;32m    212\u001b[0m     \u001b[0mCMTSearchRadius\u001b[0m\u001b[0;34m(\u001b[0m\u001b[0mBT\u001b[0m\u001b[0;34m.\u001b[0m\u001b[0mleft\u001b[0m\u001b[0;34m,\u001b[0m \u001b[0mObject\u001b[0m\u001b[0;34m,\u001b[0m \u001b[0mr\u001b[0m\u001b[0;34m,\u001b[0m \u001b[0mans\u001b[0m\u001b[0;34m)\u001b[0m\u001b[0;34m\u001b[0m\u001b[0;34m\u001b[0m\u001b[0m\n",
            "\u001b[0;32m<ipython-input-92-d78935d8bbcc>\u001b[0m in \u001b[0;36mCMTSearchRadius\u001b[0;34m(BT, Object, r, ans)\u001b[0m\n\u001b[1;32m    208\u001b[0m   \u001b[0mstack\u001b[0m\u001b[0;34m.\u001b[0m\u001b[0mappend\u001b[0m\u001b[0;34m(\u001b[0m\u001b[0mdis\u001b[0m\u001b[0;34m)\u001b[0m\u001b[0;34m\u001b[0m\u001b[0;34m\u001b[0m\u001b[0m\n\u001b[1;32m    209\u001b[0m   \u001b[0;32mif\u001b[0m \u001b[0mdis\u001b[0m \u001b[0;34m+\u001b[0m \u001b[0mr\u001b[0m \u001b[0;34m>=\u001b[0m \u001b[0mBT\u001b[0m\u001b[0;34m.\u001b[0m\u001b[0mouter\u001b[0m\u001b[0;34m:\u001b[0m\u001b[0;34m\u001b[0m\u001b[0;34m\u001b[0m\u001b[0m\n\u001b[0;32m--> 210\u001b[0;31m     \u001b[0mCMTSearchRadius\u001b[0m\u001b[0;34m(\u001b[0m\u001b[0mBT\u001b[0m\u001b[0;34m.\u001b[0m\u001b[0mright\u001b[0m\u001b[0;34m,\u001b[0m \u001b[0mObject\u001b[0m\u001b[0;34m,\u001b[0m \u001b[0mr\u001b[0m\u001b[0;34m,\u001b[0m \u001b[0mans\u001b[0m\u001b[0;34m)\u001b[0m\u001b[0;34m\u001b[0m\u001b[0;34m\u001b[0m\u001b[0m\n\u001b[0m\u001b[1;32m    211\u001b[0m   \u001b[0;32mif\u001b[0m \u001b[0mBT\u001b[0m\u001b[0;34m.\u001b[0m\u001b[0minner\u001b[0m \u001b[0;34m>=\u001b[0m \u001b[0mdis\u001b[0m \u001b[0;34m-\u001b[0m \u001b[0mr\u001b[0m\u001b[0;34m:\u001b[0m\u001b[0;34m\u001b[0m\u001b[0;34m\u001b[0m\u001b[0m\n\u001b[1;32m    212\u001b[0m     \u001b[0mCMTSearchRadius\u001b[0m\u001b[0;34m(\u001b[0m\u001b[0mBT\u001b[0m\u001b[0;34m.\u001b[0m\u001b[0mleft\u001b[0m\u001b[0;34m,\u001b[0m \u001b[0mObject\u001b[0m\u001b[0;34m,\u001b[0m \u001b[0mr\u001b[0m\u001b[0;34m,\u001b[0m \u001b[0mans\u001b[0m\u001b[0;34m)\u001b[0m\u001b[0;34m\u001b[0m\u001b[0;34m\u001b[0m\u001b[0m\n",
            "\u001b[0;32m<ipython-input-92-d78935d8bbcc>\u001b[0m in \u001b[0;36mCMTSearchRadius\u001b[0;34m(BT, Object, r, ans)\u001b[0m\n\u001b[1;32m    208\u001b[0m   \u001b[0mstack\u001b[0m\u001b[0;34m.\u001b[0m\u001b[0mappend\u001b[0m\u001b[0;34m(\u001b[0m\u001b[0mdis\u001b[0m\u001b[0;34m)\u001b[0m\u001b[0;34m\u001b[0m\u001b[0;34m\u001b[0m\u001b[0m\n\u001b[1;32m    209\u001b[0m   \u001b[0;32mif\u001b[0m \u001b[0mdis\u001b[0m \u001b[0;34m+\u001b[0m \u001b[0mr\u001b[0m \u001b[0;34m>=\u001b[0m \u001b[0mBT\u001b[0m\u001b[0;34m.\u001b[0m\u001b[0mouter\u001b[0m\u001b[0;34m:\u001b[0m\u001b[0;34m\u001b[0m\u001b[0;34m\u001b[0m\u001b[0m\n\u001b[0;32m--> 210\u001b[0;31m     \u001b[0mCMTSearchRadius\u001b[0m\u001b[0;34m(\u001b[0m\u001b[0mBT\u001b[0m\u001b[0;34m.\u001b[0m\u001b[0mright\u001b[0m\u001b[0;34m,\u001b[0m \u001b[0mObject\u001b[0m\u001b[0;34m,\u001b[0m \u001b[0mr\u001b[0m\u001b[0;34m,\u001b[0m \u001b[0mans\u001b[0m\u001b[0;34m)\u001b[0m\u001b[0;34m\u001b[0m\u001b[0;34m\u001b[0m\u001b[0m\n\u001b[0m\u001b[1;32m    211\u001b[0m   \u001b[0;32mif\u001b[0m \u001b[0mBT\u001b[0m\u001b[0;34m.\u001b[0m\u001b[0minner\u001b[0m \u001b[0;34m>=\u001b[0m \u001b[0mdis\u001b[0m \u001b[0;34m-\u001b[0m \u001b[0mr\u001b[0m\u001b[0;34m:\u001b[0m\u001b[0;34m\u001b[0m\u001b[0;34m\u001b[0m\u001b[0m\n\u001b[1;32m    212\u001b[0m     \u001b[0mCMTSearchRadius\u001b[0m\u001b[0;34m(\u001b[0m\u001b[0mBT\u001b[0m\u001b[0;34m.\u001b[0m\u001b[0mleft\u001b[0m\u001b[0;34m,\u001b[0m \u001b[0mObject\u001b[0m\u001b[0;34m,\u001b[0m \u001b[0mr\u001b[0m\u001b[0;34m,\u001b[0m \u001b[0mans\u001b[0m\u001b[0;34m)\u001b[0m\u001b[0;34m\u001b[0m\u001b[0;34m\u001b[0m\u001b[0m\n",
            "\u001b[0;32m<ipython-input-92-d78935d8bbcc>\u001b[0m in \u001b[0;36mCMTSearchRadius\u001b[0;34m(BT, Object, r, ans)\u001b[0m\n\u001b[1;32m    210\u001b[0m     \u001b[0mCMTSearchRadius\u001b[0m\u001b[0;34m(\u001b[0m\u001b[0mBT\u001b[0m\u001b[0;34m.\u001b[0m\u001b[0mright\u001b[0m\u001b[0;34m,\u001b[0m \u001b[0mObject\u001b[0m\u001b[0;34m,\u001b[0m \u001b[0mr\u001b[0m\u001b[0;34m,\u001b[0m \u001b[0mans\u001b[0m\u001b[0;34m)\u001b[0m\u001b[0;34m\u001b[0m\u001b[0;34m\u001b[0m\u001b[0m\n\u001b[1;32m    211\u001b[0m   \u001b[0;32mif\u001b[0m \u001b[0mBT\u001b[0m\u001b[0;34m.\u001b[0m\u001b[0minner\u001b[0m \u001b[0;34m>=\u001b[0m \u001b[0mdis\u001b[0m \u001b[0;34m-\u001b[0m \u001b[0mr\u001b[0m\u001b[0;34m:\u001b[0m\u001b[0;34m\u001b[0m\u001b[0;34m\u001b[0m\u001b[0m\n\u001b[0;32m--> 212\u001b[0;31m     \u001b[0mCMTSearchRadius\u001b[0m\u001b[0;34m(\u001b[0m\u001b[0mBT\u001b[0m\u001b[0;34m.\u001b[0m\u001b[0mleft\u001b[0m\u001b[0;34m,\u001b[0m \u001b[0mObject\u001b[0m\u001b[0;34m,\u001b[0m \u001b[0mr\u001b[0m\u001b[0;34m,\u001b[0m \u001b[0mans\u001b[0m\u001b[0;34m)\u001b[0m\u001b[0;34m\u001b[0m\u001b[0;34m\u001b[0m\u001b[0m\n\u001b[0m\u001b[1;32m    213\u001b[0m   \u001b[0mstack\u001b[0m\u001b[0;34m.\u001b[0m\u001b[0mpop\u001b[0m\u001b[0;34m(\u001b[0m\u001b[0;34m)\u001b[0m\u001b[0;34m\u001b[0m\u001b[0;34m\u001b[0m\u001b[0m\n",
            "\u001b[0;32m<ipython-input-92-d78935d8bbcc>\u001b[0m in \u001b[0;36mCMTSearchRadius\u001b[0;34m(BT, Object, r, ans)\u001b[0m\n\u001b[1;32m    210\u001b[0m     \u001b[0mCMTSearchRadius\u001b[0m\u001b[0;34m(\u001b[0m\u001b[0mBT\u001b[0m\u001b[0;34m.\u001b[0m\u001b[0mright\u001b[0m\u001b[0;34m,\u001b[0m \u001b[0mObject\u001b[0m\u001b[0;34m,\u001b[0m \u001b[0mr\u001b[0m\u001b[0;34m,\u001b[0m \u001b[0mans\u001b[0m\u001b[0;34m)\u001b[0m\u001b[0;34m\u001b[0m\u001b[0;34m\u001b[0m\u001b[0m\n\u001b[1;32m    211\u001b[0m   \u001b[0;32mif\u001b[0m \u001b[0mBT\u001b[0m\u001b[0;34m.\u001b[0m\u001b[0minner\u001b[0m \u001b[0;34m>=\u001b[0m \u001b[0mdis\u001b[0m \u001b[0;34m-\u001b[0m \u001b[0mr\u001b[0m\u001b[0;34m:\u001b[0m\u001b[0;34m\u001b[0m\u001b[0;34m\u001b[0m\u001b[0m\n\u001b[0;32m--> 212\u001b[0;31m     \u001b[0mCMTSearchRadius\u001b[0m\u001b[0;34m(\u001b[0m\u001b[0mBT\u001b[0m\u001b[0;34m.\u001b[0m\u001b[0mleft\u001b[0m\u001b[0;34m,\u001b[0m \u001b[0mObject\u001b[0m\u001b[0;34m,\u001b[0m \u001b[0mr\u001b[0m\u001b[0;34m,\u001b[0m \u001b[0mans\u001b[0m\u001b[0;34m)\u001b[0m\u001b[0;34m\u001b[0m\u001b[0;34m\u001b[0m\u001b[0m\n\u001b[0m\u001b[1;32m    213\u001b[0m   \u001b[0mstack\u001b[0m\u001b[0;34m.\u001b[0m\u001b[0mpop\u001b[0m\u001b[0;34m(\u001b[0m\u001b[0;34m)\u001b[0m\u001b[0;34m\u001b[0m\u001b[0;34m\u001b[0m\u001b[0m\n",
            "\u001b[0;32m<ipython-input-92-d78935d8bbcc>\u001b[0m in \u001b[0;36mCMTSearchRadius\u001b[0;34m(BT, Object, r, ans)\u001b[0m\n\u001b[1;32m    208\u001b[0m   \u001b[0mstack\u001b[0m\u001b[0;34m.\u001b[0m\u001b[0mappend\u001b[0m\u001b[0;34m(\u001b[0m\u001b[0mdis\u001b[0m\u001b[0;34m)\u001b[0m\u001b[0;34m\u001b[0m\u001b[0;34m\u001b[0m\u001b[0m\n\u001b[1;32m    209\u001b[0m   \u001b[0;32mif\u001b[0m \u001b[0mdis\u001b[0m \u001b[0;34m+\u001b[0m \u001b[0mr\u001b[0m \u001b[0;34m>=\u001b[0m \u001b[0mBT\u001b[0m\u001b[0;34m.\u001b[0m\u001b[0mouter\u001b[0m\u001b[0;34m:\u001b[0m\u001b[0;34m\u001b[0m\u001b[0;34m\u001b[0m\u001b[0m\n\u001b[0;32m--> 210\u001b[0;31m     \u001b[0mCMTSearchRadius\u001b[0m\u001b[0;34m(\u001b[0m\u001b[0mBT\u001b[0m\u001b[0;34m.\u001b[0m\u001b[0mright\u001b[0m\u001b[0;34m,\u001b[0m \u001b[0mObject\u001b[0m\u001b[0;34m,\u001b[0m \u001b[0mr\u001b[0m\u001b[0;34m,\u001b[0m \u001b[0mans\u001b[0m\u001b[0;34m)\u001b[0m\u001b[0;34m\u001b[0m\u001b[0;34m\u001b[0m\u001b[0m\n\u001b[0m\u001b[1;32m    211\u001b[0m   \u001b[0;32mif\u001b[0m \u001b[0mBT\u001b[0m\u001b[0;34m.\u001b[0m\u001b[0minner\u001b[0m \u001b[0;34m>=\u001b[0m \u001b[0mdis\u001b[0m \u001b[0;34m-\u001b[0m \u001b[0mr\u001b[0m\u001b[0;34m:\u001b[0m\u001b[0;34m\u001b[0m\u001b[0;34m\u001b[0m\u001b[0m\n\u001b[1;32m    212\u001b[0m     \u001b[0mCMTSearchRadius\u001b[0m\u001b[0;34m(\u001b[0m\u001b[0mBT\u001b[0m\u001b[0;34m.\u001b[0m\u001b[0mleft\u001b[0m\u001b[0;34m,\u001b[0m \u001b[0mObject\u001b[0m\u001b[0;34m,\u001b[0m \u001b[0mr\u001b[0m\u001b[0;34m,\u001b[0m \u001b[0mans\u001b[0m\u001b[0;34m)\u001b[0m\u001b[0;34m\u001b[0m\u001b[0;34m\u001b[0m\u001b[0m\n",
            "\u001b[0;32m<ipython-input-92-d78935d8bbcc>\u001b[0m in \u001b[0;36mCMTSearchRadius\u001b[0;34m(BT, Object, r, ans)\u001b[0m\n\u001b[1;32m    210\u001b[0m     \u001b[0mCMTSearchRadius\u001b[0m\u001b[0;34m(\u001b[0m\u001b[0mBT\u001b[0m\u001b[0;34m.\u001b[0m\u001b[0mright\u001b[0m\u001b[0;34m,\u001b[0m \u001b[0mObject\u001b[0m\u001b[0;34m,\u001b[0m \u001b[0mr\u001b[0m\u001b[0;34m,\u001b[0m \u001b[0mans\u001b[0m\u001b[0;34m)\u001b[0m\u001b[0;34m\u001b[0m\u001b[0;34m\u001b[0m\u001b[0m\n\u001b[1;32m    211\u001b[0m   \u001b[0;32mif\u001b[0m \u001b[0mBT\u001b[0m\u001b[0;34m.\u001b[0m\u001b[0minner\u001b[0m \u001b[0;34m>=\u001b[0m \u001b[0mdis\u001b[0m \u001b[0;34m-\u001b[0m \u001b[0mr\u001b[0m\u001b[0;34m:\u001b[0m\u001b[0;34m\u001b[0m\u001b[0;34m\u001b[0m\u001b[0m\n\u001b[0;32m--> 212\u001b[0;31m     \u001b[0mCMTSearchRadius\u001b[0m\u001b[0;34m(\u001b[0m\u001b[0mBT\u001b[0m\u001b[0;34m.\u001b[0m\u001b[0mleft\u001b[0m\u001b[0;34m,\u001b[0m \u001b[0mObject\u001b[0m\u001b[0;34m,\u001b[0m \u001b[0mr\u001b[0m\u001b[0;34m,\u001b[0m \u001b[0mans\u001b[0m\u001b[0;34m)\u001b[0m\u001b[0;34m\u001b[0m\u001b[0;34m\u001b[0m\u001b[0m\n\u001b[0m\u001b[1;32m    213\u001b[0m   \u001b[0mstack\u001b[0m\u001b[0;34m.\u001b[0m\u001b[0mpop\u001b[0m\u001b[0;34m(\u001b[0m\u001b[0;34m)\u001b[0m\u001b[0;34m\u001b[0m\u001b[0;34m\u001b[0m\u001b[0m\n",
            "\u001b[0;32m<ipython-input-92-d78935d8bbcc>\u001b[0m in \u001b[0;36mCMTSearchRadius\u001b[0;34m(BT, Object, r, ans)\u001b[0m\n\u001b[1;32m    186\u001b[0m     \u001b[0;32mreturn\u001b[0m\u001b[0;34m\u001b[0m\u001b[0;34m\u001b[0m\u001b[0m\n\u001b[1;32m    187\u001b[0m \u001b[0;34m\u001b[0m\u001b[0m\n\u001b[0;32m--> 188\u001b[0;31m   \u001b[0mmaxPDV\u001b[0m \u001b[0;34m=\u001b[0m \u001b[0mmaxPD\u001b[0m\u001b[0;34m(\u001b[0m\u001b[0mstack\u001b[0m\u001b[0;34m,\u001b[0m \u001b[0mBT\u001b[0m\u001b[0;34m)\u001b[0m\u001b[0;34m\u001b[0m\u001b[0;34m\u001b[0m\u001b[0m\n\u001b[0m\u001b[1;32m    189\u001b[0m \u001b[0;34m\u001b[0m\u001b[0m\n\u001b[1;32m    190\u001b[0m   \u001b[0;32mif\u001b[0m \u001b[0mmaxPDV\u001b[0m \u001b[0;34m>\u001b[0m \u001b[0mr\u001b[0m\u001b[0;34m:\u001b[0m\u001b[0;34m\u001b[0m\u001b[0;34m\u001b[0m\u001b[0m\n",
            "\u001b[0;32m<ipython-input-92-d78935d8bbcc>\u001b[0m in \u001b[0;36mmaxPD\u001b[0;34m(stack, node)\u001b[0m\n\u001b[1;32m    176\u001b[0m             \u001b[0mmaxPDV\u001b[0m \u001b[0;34m=\u001b[0m \u001b[0mmax\u001b[0m\u001b[0;34m(\u001b[0m\u001b[0mmaxPDV\u001b[0m\u001b[0;34m,\u001b[0m \u001b[0mstack\u001b[0m\u001b[0;34m[\u001b[0m\u001b[0mi\u001b[0m\u001b[0;34m]\u001b[0m \u001b[0;34m-\u001b[0m \u001b[0mfars\u001b[0m\u001b[0;34m[\u001b[0m\u001b[0mi\u001b[0m\u001b[0;34m]\u001b[0m\u001b[0;34m)\u001b[0m\u001b[0;34m\u001b[0m\u001b[0;34m\u001b[0m\u001b[0m\n\u001b[1;32m    177\u001b[0m         \u001b[0;32melif\u001b[0m \u001b[0mnears\u001b[0m\u001b[0;34m[\u001b[0m\u001b[0mi\u001b[0m\u001b[0;34m]\u001b[0m \u001b[0;34m>\u001b[0m \u001b[0mstack\u001b[0m\u001b[0;34m[\u001b[0m\u001b[0mi\u001b[0m\u001b[0;34m]\u001b[0m\u001b[0;34m:\u001b[0m\u001b[0;34m\u001b[0m\u001b[0;34m\u001b[0m\u001b[0m\n\u001b[0;32m--> 178\u001b[0;31m             \u001b[0mmaxPDV\u001b[0m \u001b[0;34m=\u001b[0m \u001b[0mmax\u001b[0m\u001b[0;34m(\u001b[0m\u001b[0mmaxPDV\u001b[0m\u001b[0;34m,\u001b[0m \u001b[0mnears\u001b[0m\u001b[0;34m[\u001b[0m\u001b[0mi\u001b[0m\u001b[0;34m]\u001b[0m \u001b[0;34m-\u001b[0m \u001b[0mstack\u001b[0m\u001b[0;34m[\u001b[0m\u001b[0mi\u001b[0m\u001b[0;34m]\u001b[0m\u001b[0;34m)\u001b[0m\u001b[0;34m\u001b[0m\u001b[0;34m\u001b[0m\u001b[0m\n\u001b[0m\u001b[1;32m    179\u001b[0m     \u001b[0;31m# print(maxPDV)\u001b[0m\u001b[0;34m\u001b[0m\u001b[0;34m\u001b[0m\u001b[0m\n\u001b[1;32m    180\u001b[0m     \u001b[0;32mreturn\u001b[0m \u001b[0mmaxPDV\u001b[0m\u001b[0;34m\u001b[0m\u001b[0;34m\u001b[0m\u001b[0m\n",
            "\u001b[0;31mKeyboardInterrupt\u001b[0m: "
          ]
        }
      ]
    },
    {
      "cell_type": "code",
      "source": [],
      "metadata": {
        "colab": {
          "base_uri": "https://localhost:8080/"
        },
        "id": "FlyvYV5BrAiJ",
        "outputId": "6e871908-73dc-4371-e607-3232f4782279"
      },
      "execution_count": 102,
      "outputs": [
        {
          "output_type": "execute_result",
          "data": {
            "text/plain": [
              "7"
            ]
          },
          "metadata": {},
          "execution_count": 102
        }
      ]
    }
  ]
}