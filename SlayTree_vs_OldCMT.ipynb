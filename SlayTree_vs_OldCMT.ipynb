{
  "nbformat": 4,
  "nbformat_minor": 0,
  "metadata": {
    "colab": {
      "provenance": [],
      "authorship_tag": "ABX9TyOu3rYq+m8Bq2bLFf+i5VI1",
      "include_colab_link": true
    },
    "kernelspec": {
      "name": "python3",
      "display_name": "Python 3"
    },
    "language_info": {
      "name": "python"
    }
  },
  "cells": [
    {
      "cell_type": "markdown",
      "metadata": {
        "id": "view-in-github",
        "colab_type": "text"
      },
      "source": [
        "<a href=\"https://colab.research.google.com/github/weathon/slay/blob/main/SlayTree_vs_OldCMT.ipynb\" target=\"_parent\"><img src=\"https://colab.research.google.com/assets/colab-badge.svg\" alt=\"Open In Colab\"/></a>"
      ]
    },
    {
      "cell_type": "code",
      "execution_count": 91,
      "metadata": {
        "id": "vmtt-NzoVeqx"
      },
      "outputs": [],
      "source": [
        "import pylab\n",
        "import numpy as np"
      ]
    },
    {
      "cell_type": "code",
      "source": [
        "import numpy as np\n",
        "import pandas as pd \n",
        "import random\n",
        "import pylab \n",
        "import multiprocessing\n",
        "import time\n",
        "from pyrsistent import l\n",
        "import timeit\n",
        "\n",
        "def ifNone(a):\n",
        "    if type(a) == type(None):\n",
        "        return True\n",
        "    else:\n",
        "        return False\n",
        "\n",
        "def maxPerArg(list1, list2):\n",
        "    if len(list1) != len(list2):\n",
        "        raise Exception(\"OOBA %s,%s\" % (len(list1), len(list2)))\n",
        "    ans = list1[:]\n",
        "    for i in range(len(list1)):\n",
        "        if list2[i]>list1[i]:\n",
        "            ans[i] = list2[i]\n",
        "    return ans\n",
        "\n",
        "def minPerArg(list1, list2):\n",
        "    if len(list1) != len(list2):\n",
        "        raise Exception(\"OOBA %s,%s\" % (len(list1), len(list2)))\n",
        "    ans = list1[:]\n",
        "    for i in range(len(list1)):\n",
        "        if list2[i]<list1[i]:\n",
        "            ans[i] = list2[i]\n",
        "    return ans\n",
        "\n",
        "class dataPoint:\n",
        "    def __init__(self, d, id):\n",
        "        self.data = d\n",
        "        self.id = id\n",
        "        self.ancestorsDistances = {}\n",
        "        self.ancestorsDistancesList = []\n",
        "        self.distanceFromDad = -1\n",
        "        self.max = -1\n",
        "        self.min = -1\n",
        "        self.fars = [-1]\n",
        "        self.nears = [-1]\n",
        "    def __str__(self):\n",
        "        return str(self.data)\n",
        "\n",
        "def randomArray(size):\n",
        "    ans = []\n",
        "    for i in range(size):\n",
        "        ans.append(random.random())\n",
        "    return np.array(ans)\n",
        "\n",
        "\n",
        "\n",
        "class BallTreeNode:\n",
        "  def __init__(self):\n",
        "    self.myobject = None\n",
        "    self.inner = None\n",
        "    self.outer = None\n",
        "    self.left = None\n",
        "    self.right = None\n",
        "    self.count = 0\n",
        "\n",
        "def getData(myArray):\n",
        "    myArray.sort(key=lambda x: x.distanceFromDad)\n",
        "    theMax = myArray[-1].distanceFromDad\n",
        "    theMin = myArray[0].distanceFromDad\n",
        "    inner = myArray[int(len(myArray)/2)-1].distanceFromDad\n",
        "    outer = myArray[int(len(myArray)/2)].distanceFromDad\n",
        "    return theMax, theMin, inner, outer, myArray\n",
        "\n",
        "\n",
        "counts = 0\n",
        "def d(a, b, r=0):\n",
        "  global counts\n",
        "  a, b = a.data, b.data\n",
        "  counts+=1\n",
        "  return np.sqrt(np.sum((a-b)**2))\n",
        "\n",
        "\n",
        "def ConstructBallTree(BT, localobjects):\n",
        "  if len(localobjects)==0:\n",
        "    return BT\n",
        "  if len(localobjects)==1:\n",
        "    BT.myobject = localobjects[0]\n",
        "    BT.inner = 0\n",
        "    BT.outer = 0\n",
        "    BT.count = 1\n",
        "    return BT\n",
        "  selectedIndex = random.randint(0,len(localobjects)-1)\n",
        "  localobjects[-1], localobjects[selectedIndex] = localobjects[selectedIndex], localobjects[-1] \n",
        "  BT.myobject = localobjects[-1]\n",
        "  localobjects = localobjects[:-1]\n",
        "  \n",
        "  \n",
        "  for i in range(len(localobjects)):\n",
        "    localobjects[i].distanceFromDad=d(BT.myobject, localobjects[i])\n",
        "    localobjects[i].ancestorsDistancesList.append(localobjects[i].distanceFromDad)\n",
        "  \n",
        "  BT.myobject.max, BT.myobject.min, BT.inner, BT.outer, sortedlocalobjects = getData(localobjects)\n",
        "\n",
        "  \n",
        "  \n",
        "\n",
        "  L = []\n",
        "  R = []\n",
        "  for i in range(len(localobjects)):\n",
        "    if localobjects[i].distanceFromDad<=BT.inner:\n",
        "      L.append(localobjects[i])\n",
        "    elif localobjects[i].distanceFromDad>=BT.outer:\n",
        "      R.append(localobjects[i])\n",
        "    else:\n",
        "      print(\"where am i\", BT.inner,BT.outer)\n",
        "\n",
        "  BT.count = len(localobjects)\n",
        "\n",
        "  if len(L) != 0:\n",
        "    BT.left = ConstructBallTree(BallTreeNode(),L)\n",
        "  if len(R) != 0:\n",
        "    BT.right = ConstructBallTree(BallTreeNode(),R)\n",
        "  \n",
        "  \n",
        "\n",
        "  return BT\n",
        "\n",
        "\n",
        "def generateCMTData(BT):\n",
        "    if ifNone(BT):\n",
        "        return [], []\n",
        "    Lnear, Lfar = generateCMTData(BT.left)\n",
        "    Rnear, Rfar = generateCMTData(BT.right)\n",
        "    Lnear, Lfar, Rnear, Rfar = Lnear[:-1], Lfar[:-1], Rnear[:-1], Rfar[:-1]\n",
        "    \n",
        "    if len(Lnear) != 0 and len(Rnear) != 0:\n",
        "        \n",
        "        BT.myobject.nears = minPerArg(minPerArg(Lnear, Rnear), BT.myobject.ancestorsDistancesList)\n",
        "        BT.myobject.fars = maxPerArg(maxPerArg(Lfar, Rfar), BT.myobject.ancestorsDistancesList)\n",
        "    elif len(Lnear) != 0:\n",
        "        \n",
        "        BT.myobject.nears = minPerArg(Lnear, BT.myobject.ancestorsDistancesList)\n",
        "        BT.myobject.fars = maxPerArg(Lfar, BT.myobject.ancestorsDistancesList)\n",
        "    elif len(Rnear) != 0:\n",
        "        \n",
        "        BT.myobject.nears = minPerArg(Rnear, BT.myobject.ancestorsDistancesList)\n",
        "        BT.myobject.fars = maxPerArg(Rfar, BT.myobject.ancestorsDistancesList)\n",
        "    elif len(Rnear) == 0 and len(Lnear) == 0:\n",
        "    \n",
        "        \n",
        "        BT.myobject.nears = BT.myobject.ancestorsDistancesList\n",
        "        BT.myobject.fars = BT.myobject.ancestorsDistancesList \n",
        "        \n",
        "        \n",
        "        \n",
        "    \n",
        "    \n",
        "    returnNear = BT.myobject.nears\n",
        "    returnFar = BT.myobject.fars\n",
        "\n",
        "    return returnNear, returnFar\n",
        "    \n",
        "\n",
        "\n",
        "\n",
        "def maxPD(stack, node): \n",
        "    nears = node.myobject.nears\n",
        "    fars = node.myobject.fars\n",
        "    if len(stack) != len(fars):\n",
        "        \n",
        "        raise Exception(\"stack and fars not match %s, %s\" %(len(stack), len(fars)))\n",
        "    maxPDV = 0\n",
        "    for i in range(len(stack)):\n",
        "        \n",
        "        if fars[i] < stack[i]:\n",
        "            \n",
        "            maxPDV = max(maxPDV, stack[i] - fars[i]) \n",
        "        elif nears[i] > stack[i]:\n",
        "            maxPDV = max(maxPDV, nears[i] - stack[i])\n",
        "    # print(maxPDV)\n",
        "    return maxPDV\n",
        "        \n",
        "\n",
        "def CMTSearchRadius(BT, Object, r, ans):\n",
        "  global stack\n",
        "  if BT == None:\n",
        "    return\n",
        "\n",
        "  maxPDV = maxPD(stack, BT) \n",
        "      \n",
        "  if maxPDV > r:\n",
        "    return\n",
        "    \n",
        "  dis = d(Object, BT.myobject, r)\n",
        "    \n",
        "  if dis <= r:\n",
        "    ans.append(BT.myobject)  \n",
        "\n",
        "  if type(BT.myobject.max) != type(None):\n",
        "    if dis > BT.myobject.max:\n",
        "      if dis - BT.myobject.max > r: \n",
        "        return\n",
        "\n",
        "  if type(BT.myobject.min) != type(None):\n",
        "    if dis < BT.myobject.min:\n",
        "      if BT.myobject.min - dis > r:\n",
        "        return  \n",
        "  \n",
        "  stack.append(dis)\n",
        "  if dis + r >= BT.outer:\n",
        "    CMTSearchRadius(BT.right, Object, r, ans)\n",
        "  if BT.inner >= dis - r:                              \n",
        "    CMTSearchRadius(BT.left, Object, r, ans)\n",
        "  stack.pop()"
      ],
      "metadata": {
        "id": "jO6kZs0VmEaW"
      },
      "execution_count": 92,
      "outputs": []
    },
    {
      "cell_type": "code",
      "source": [
        "Objects = []\n",
        "for i in range(10000):\n",
        "  tmp = dataPoint(randomArray(5), i)\n",
        "  Objects.append(tmp)\n",
        "\n",
        "\n",
        "counts = 0\n",
        "begin = time.time()\n",
        "NewBT = ConstructBallTree(BallTreeNode(),Objects)\n",
        "end = time.time()\n",
        "print(\"Construction time:\", (end-begin)*1000)\n",
        "\n",
        "begin = time.time()\n",
        "generateCMTData(NewBT)\n",
        "end = time.time()\n",
        "print(\"CMT Data time:\", (end-begin)*1000)\n"
      ],
      "metadata": {
        "colab": {
          "base_uri": "https://localhost:8080/"
        },
        "id": "WcPrll_TpEpu",
        "outputId": "049bb800-54de-4e24-b816-5b9aafd70ff5"
      },
      "execution_count": 93,
      "outputs": [
        {
          "output_type": "stream",
          "name": "stdout",
          "text": [
            "Construction time: 1619.6706295013428\n",
            "CMT Data time: 71.49791717529297\n"
          ]
        }
      ]
    },
    {
      "cell_type": "code",
      "source": [
        "class TreeNode:\n",
        "  def __init__(self, objectA, objectB):\n",
        "    self.objectA = objectA\n",
        "    self.objectB = objectB\n",
        "    if not objectB is None and not objectA is None:\n",
        "      self.halfway = d(objectA, objectB)\n",
        "    self.left = None\n",
        "    self.right = None\n",
        "  \n",
        "  def __str__(self):\n",
        "    return str((self.objectA, self.objectB))"
      ],
      "metadata": {
        "id": "a_O72y6FXNb5"
      },
      "execution_count": 94,
      "outputs": []
    },
    {
      "cell_type": "code",
      "source": [
        "def buildTree(objects):\n",
        "  if len(objects)==0:\n",
        "    return None\n",
        "  if len(objects) == 1:\n",
        "    root = TreeNode(objects[0], None)\n",
        "    return root\n",
        "  elif len(objects) == 2:\n",
        "    root = TreeNode(objects[0], objects[1])\n",
        "    return root\n",
        "\n",
        "  center1 = 0 #why default 50??\n",
        "  center2 = -1\n",
        "\n",
        "  maxD = -1\n",
        "\n",
        "  for i in range(len(objects)):\n",
        "    dis = d(objects[i], objects[center1])\n",
        "    if dis>maxD:\n",
        "      maxD=dis\n",
        "      center2=i\n",
        "    \n",
        "  maxD = -1\n",
        "\n",
        "  for i in range(len(objects)):\n",
        "    dis = d(objects[i], objects[center2])\n",
        "    if dis>maxD:\n",
        "      maxD=dis\n",
        "      center1=i\n",
        "  # print(center1, center2, len(objects))\n",
        "  root = TreeNode(objects[center1], objects[center2])\n",
        "\n",
        "  del objects[center1]\n",
        "  if center1<center2:\n",
        "     del objects[center2-1] #opmization needed\n",
        "  else:\n",
        "    del objects[center2] \n",
        "  # I got it center1 and 2 are not indexes!!! mix index and ID again\n",
        "  left = []\n",
        "  right = []\n",
        "\n",
        "  for i in objects:\n",
        "    if d(i, root.objectA) < d(i, root.objectB):\n",
        "      left.append(i)\n",
        "    else:\n",
        "      right.append(i)\n",
        "\n",
        "  # print(len(left),len(right),len(objects))\n",
        "  # if root.objectA in left:\n",
        "  # # if root.objectA in left: wtf not in objects but in left? oh i got it it is range objects i got it\n",
        "  #   print(\"WTF\")\n",
        "  root.left = buildTree(left)\n",
        "  root.right = buildTree(right)\n",
        "  return root"
      ],
      "metadata": {
        "id": "54QlZigjakP6"
      },
      "execution_count": 95,
      "outputs": []
    },
    {
      "cell_type": "code",
      "source": [
        "def searchBF(objects, id, r):\n",
        "  ans = []\n",
        "  for i in objects:\n",
        "    if d(id, i)<=r:\n",
        "      ans.append(i)\n",
        "  return ans"
      ],
      "metadata": {
        "id": "9qmPtOcJbw9k"
      },
      "execution_count": 96,
      "outputs": []
    },
    {
      "cell_type": "code",
      "source": [
        "def searchTree(root, id, r, ans):\n",
        "  if root == None: #empty, since it is not inited\n",
        "    return\n",
        "  if root.objectB == None:\n",
        "    dA = d(root.objectA, id)\n",
        "    if dA<=r:\n",
        "      ans.append(root.objectA)\n",
        "    return\n",
        "\n",
        "  dA = d(root.objectA, id)\n",
        "  dB = d(root.objectB, id)\n",
        "  if dA<=r:\n",
        "    ans.append(root.objectA)\n",
        "  if dB <= r:\n",
        "    ans.append(root.objectB)\n",
        "\n",
        "  # halfway = d(root.objectA, root.objectB) #(could be precomputed)\n",
        "  \n",
        "  if dA-r<=dB+r: \n",
        "    searchTree(root.left,id,r, ans)\n",
        "  if dB-r<=dA+r: \n",
        "    searchTree(root.right,id,r, ans)"
      ],
      "metadata": {
        "id": "y0afk4g7cEVw"
      },
      "execution_count": 97,
      "outputs": []
    },
    {
      "cell_type": "code",
      "source": [
        "# objectSets = []\n",
        "# for i in range(10000):\n",
        "#   tmp = dataPoint([random.random(), random.random()], i)\n",
        "\n",
        "objectSets = []\n",
        "for i in range(100_000):\n",
        "  tmp = dataPoint(randomArray(5), i)\n",
        "  objectSets.append(tmp)\n",
        "\n",
        "\n",
        "counts = 0\n",
        "\n",
        "slaytree = buildTree(objectSets)\n",
        "CMT = ConstructBallTree(BallTreeNode(), objectSets)\n",
        "generateCMTData(CMT)"
      ],
      "metadata": {
        "colab": {
          "base_uri": "https://localhost:8080/"
        },
        "id": "0L5U2WX-NVOD",
        "outputId": "3d851aad-7123-4776-b6e5-0aa339dce2c8"
      },
      "execution_count": 111,
      "outputs": [
        {
          "output_type": "execute_result",
          "data": {
            "text/plain": [
              "([], [])"
            ]
          },
          "metadata": {},
          "execution_count": 111
        }
      ]
    },
    {
      "cell_type": "code",
      "source": [
        "def BaselineSearchRadius(BT, Object, r, ans):\n",
        "  if BT == None:\n",
        "    return\n",
        "  dis = d(Object, BT.myobject, r)\n",
        "  if dis <= r:\n",
        "    ans.append(BT.myobject)\n",
        "  \n",
        "\n",
        "  if type(BT.myobject.max) != type(None):\n",
        "    if dis > BT.myobject.max:\n",
        "      if dis - BT.myobject.max > r: \n",
        "        return\n",
        "\n",
        "  if type(BT.myobject.min) != type(None):\n",
        "    if dis < BT.myobject.min:\n",
        "      if BT.myobject.min - dis > r:\n",
        "        return  \n",
        "  \n",
        "  \n",
        "  \n",
        "  if dis + r >= BT.outer:\n",
        "    BaselineSearchRadius(BT.right, Object, r, ans)\n",
        "  if BT.inner >= dis - r:                              \n",
        "    BaselineSearchRadius(BT.left, Object, r, ans)\n"
      ],
      "metadata": {
        "id": "Yw6jPsusskK0"
      },
      "execution_count": 112,
      "outputs": []
    },
    {
      "cell_type": "code",
      "source": [
        "a = []\n",
        "b = []\n",
        "target = 50\n",
        "for r in np.arange(0,1,0.1):\n",
        "  ans1 = searchBF(objectSets, objectSets[target], r)\n",
        "  ans2 = []\n",
        "  counts = 0\n",
        "  searchTree(slaytree, objectSets[target], r, ans2)\n",
        "  ans3 = []\n",
        "  stack =[]\n",
        "  counts1 = counts\n",
        "  counts = 0\n",
        "  BaselineSearchRadius(CMT, objectSets[target], r, ans3) #even baseline is better\n",
        "  counts2 = counts\n",
        "  # print(len(ans1), len(ans2), len(ans3))\n",
        "  # print(counts1, counts2) #so nervous kunyunexkunyun\n",
        "  a.append(counts1)\n",
        "  b.append(counts2)"
      ],
      "metadata": {
        "id": "RnEvbKglq15Q"
      },
      "execution_count": null,
      "outputs": []
    },
    {
      "cell_type": "code",
      "source": [
        "pylab.plot(a)\n",
        "pylab.plot(b)"
      ],
      "metadata": {
        "colab": {
          "base_uri": "https://localhost:8080/",
          "height": 448
        },
        "id": "aWCkG4YHuFh_",
        "outputId": "e90f36d1-4206-4be1-ebe2-3e4b7cf6ea11"
      },
      "execution_count": 117,
      "outputs": [
        {
          "output_type": "execute_result",
          "data": {
            "text/plain": [
              "[<matplotlib.lines.Line2D at 0x7fba66e18970>]"
            ]
          },
          "metadata": {},
          "execution_count": 117
        },
        {
          "output_type": "display_data",
          "data": {
            "text/plain": [
              "<Figure size 640x480 with 1 Axes>"
            ],
            "image/png": "[encoded data removed]"
          },
          "metadata": {}
        }
      ]
    }
  ]
}