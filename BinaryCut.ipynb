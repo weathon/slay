{
  "nbformat": 4,
  "nbformat_minor": 0,
  "metadata": {
    "colab": {
      "provenance": [],
      "authorship_tag": "ABX9TyOKlT5VUf4tm+65+jFcJyMA",
      "include_colab_link": true
    },
    "kernelspec": {
      "name": "python3",
      "display_name": "Python 3"
    },
    "language_info": {
      "name": "python"
    }
  },
  "cells": [
    {
      "cell_type": "markdown",
      "metadata": {
        "id": "view-in-github",
        "colab_type": "text"
      },
      "source": [
        "<a href=\"https://colab.research.google.com/github/weathon/slay/blob/main/BinaryCut.ipynb\" target=\"_parent\"><img src=\"https://colab.research.google.com/assets/colab-badge.svg\" alt=\"Open In Colab\"/></a>"
      ]
    },
    {
      "cell_type": "code",
      "execution_count": 2,
      "metadata": {
        "colab": {
          "base_uri": "https://localhost:8080/"
        },
        "id": "T3DTXLU03Y57",
        "outputId": "f7dcb51a-dab8-47f4-baea-ce841bdd0fc0"
      },
      "outputs": [
        {
          "output_type": "stream",
          "name": "stdout",
          "text": [
            "13\n"
          ]
        }
      ],
      "source": [
        "# simple binary search review\n",
        "import numpy as np\n",
        "\n",
        "arr = [1, 3, 5, 6, 8, 10, 11, 12, 1, 80, 90, 165, 500, 600]\n",
        "target = 600\n",
        "left = 0\n",
        "right = len(arr)-1\n",
        "while True:\n",
        "  mid = int((left+right)/2)\n",
        "  if right-left==1:\n",
        "    mid=right\n",
        "\n",
        "  if arr[mid] == target:\n",
        "    print(mid)\n",
        "    break\n",
        "  if arr[mid] < target:\n",
        "    left = mid\n",
        "  if arr[mid]>target:\n",
        "    right=mid"
      ]
    },
    {
      "cell_type": "code",
      "source": [
        "# cut to half\n",
        "arr = np.random.normal(size=88)\n",
        "left = 0\n",
        "right = len(arr)-1\n",
        "threshold = (max(arr)-min(arr))/2\n",
        "Ts = []\n",
        "while True:\n",
        "  LC = 0\n",
        "  RC = 0\n",
        "  for i in arr:\n",
        "    if i<threshold:\n",
        "      LC+=1\n",
        "    else:\n",
        "      RC+=1\n",
        "    \n",
        "  if LC<RC: #outside for\n",
        "    threshold *=1.1\n",
        "  elif RC<LC:\n",
        "    threshold *= 0.9\n",
        "  # print(LC, RC, threshold)\n",
        "  Ts.append(threshold)"
      ],
      "metadata": {
        "colab": {
          "base_uri": "https://localhost:8080/",
          "height": 240
        },
        "id": "Aj4wtj5k6Fu1",
        "outputId": "3c18586f-738b-4d1e-801c-d1fd0badc2de"
      },
      "execution_count": 3,
      "outputs": [
        {
          "output_type": "error",
          "ename": "KeyboardInterrupt",
          "evalue": "ignored",
          "traceback": [
            "\u001b[0;31m---------------------------------------------------------------------------\u001b[0m",
            "\u001b[0;31mKeyboardInterrupt\u001b[0m                         Traceback (most recent call last)",
            "\u001b[0;32m<ipython-input-3-ccb7ffb13829>\u001b[0m in \u001b[0;36m<cell line: 7>\u001b[0;34m()\u001b[0m\n\u001b[1;32m      9\u001b[0m   \u001b[0mRC\u001b[0m \u001b[0;34m=\u001b[0m \u001b[0;36m0\u001b[0m\u001b[0;34m\u001b[0m\u001b[0;34m\u001b[0m\u001b[0m\n\u001b[1;32m     10\u001b[0m   \u001b[0;32mfor\u001b[0m \u001b[0mi\u001b[0m \u001b[0;32min\u001b[0m \u001b[0marr\u001b[0m\u001b[0;34m:\u001b[0m\u001b[0;34m\u001b[0m\u001b[0;34m\u001b[0m\u001b[0m\n\u001b[0;32m---> 11\u001b[0;31m     \u001b[0;32mif\u001b[0m \u001b[0mi\u001b[0m\u001b[0;34m<\u001b[0m\u001b[0mthreshold\u001b[0m\u001b[0;34m:\u001b[0m\u001b[0;34m\u001b[0m\u001b[0;34m\u001b[0m\u001b[0m\n\u001b[0m\u001b[1;32m     12\u001b[0m       \u001b[0mLC\u001b[0m\u001b[0;34m+=\u001b[0m\u001b[0;36m1\u001b[0m\u001b[0;34m\u001b[0m\u001b[0;34m\u001b[0m\u001b[0m\n\u001b[1;32m     13\u001b[0m     \u001b[0;32melse\u001b[0m\u001b[0;34m:\u001b[0m\u001b[0;34m\u001b[0m\u001b[0;34m\u001b[0m\u001b[0m\n",
            "\u001b[0;31mKeyboardInterrupt\u001b[0m: "
          ]
        }
      ]
    },
    {
      "cell_type": "code",
      "source": [
        "# cut to half\n",
        "arr = [1,22,3,4,5,7,8,10,13,15,18,20,23,25]#[1, 3, 5, 6, 8, 10, 11, 12, 1, 80, 90, 165, 500, 600]#[1,5,8,10,100,200,300,500,800,1000,5000,30_000]\n",
        "# for _ in range(100):\n",
        "#   arr.append(arr[-1]+abs(np.random.normal())*1*abs(np.random.normal())) #it will not work if it iis unform? normal has plus and minus. lengruanno need for extream case\n",
        "left = 0\n",
        "right = len(arr)-1\n",
        "threshold = np.max(arr)\n",
        "Ts = []\n",
        "lastT = 0\n",
        "lastLC_RC = len(arr)+10\n",
        "for _ in range(10):\n",
        "  LC = 0\n",
        "  RC = 0\n",
        "  for i in arr:\n",
        "    if i<threshold:\n",
        "      LC+=1\n",
        "    else:\n",
        "      RC+=1\n",
        "  if abs(LC-RC)>abs(lastLC_RC):\n",
        "    threshold = lastT\n",
        "    Ts.append(lastT)\n",
        "    break\n",
        "  if 0.45<(max(RC,LC)/(RC+LC))<0.55:\n",
        "    Ts.append(LC-RC)\n",
        "    break\n",
        "  \n",
        "  if lastLC_RC == LC - RC:\n",
        "    Ts.append(LC-RC)\n",
        "    break\n",
        "\n",
        "  if LC<RC: \n",
        "    threshold += (threshold + np.max(arr))/2 #this is binary search?\n",
        "  elif RC<LC:\n",
        "    threshold -= (threshold - np.min(arr))/2\n",
        "  Ts.append(LC-RC) #LC-RC is the loss?\n",
        "  lastLC_RC = LC-RC\n",
        "  lastT = threshold\n",
        "  print(threshold)\n",
        "pylab.scatter(range(len(Ts)), Ts)\n",
        "pylab.plot(range(len(Ts)), Ts)\n"
      ],
      "metadata": {
        "colab": {
          "base_uri": "https://localhost:8080/",
          "height": 466
        },
        "id": "6k1QhTcc8IgP",
        "outputId": "5d327546-c057-4f1a-b474-634452e5aacf"
      },
      "execution_count": 27,
      "outputs": [
        {
          "output_type": "stream",
          "name": "stdout",
          "text": [
            "13.0\n"
          ]
        },
        {
          "output_type": "execute_result",
          "data": {
            "text/plain": [
              "[<matplotlib.lines.Line2D at 0x7f1052df8fa0>]"
            ]
          },
          "metadata": {},
          "execution_count": 27
        },
        {
          "output_type": "display_data",
          "data": {
            "text/plain": [
              "<Figure size 640x480 with 1 Axes>"
            ],
            "image/png": "[encoded data removed]"
          },
          "metadata": {}
        }
      ]
    },
    {
      "cell_type": "code",
      "source": [],
      "metadata": {
        "id": "UrwT4RnPSx_4"
      },
      "execution_count": null,
      "outputs": []
    },
    {
      "cell_type": "code",
      "source": [
        "Ts"
      ],
      "metadata": {
        "id": "eHNYZb-YC0lm"
      },
      "execution_count": null,
      "outputs": []
    },
    {
      "cell_type": "code",
      "source": [
        "LC,RC"
      ],
      "metadata": {
        "id": "hVZUeZEZ9K8Q"
      },
      "execution_count": null,
      "outputs": []
    },
    {
      "cell_type": "code",
      "source": [
        "pylab.plot(arr)"
      ],
      "metadata": {
        "id": "cZp5SGU5-C2I"
      },
      "execution_count": null,
      "outputs": []
    },
    {
      "cell_type": "code",
      "source": [
        "# cut to half\n",
        "arr = [1, 3, 5, 6, 8, 10, 11, 12, 1, 80, 90, 165, 500, 600]#[1,5,8,10,100,200,300,500,800,1000,5000,30_000] \n",
        "# for _ in range(100):\n",
        "#   arr.append(arr[-1]+abs(np.random.normal())*1*abs(np.random.normal())) #it will not work if it iis unform? normal has plus and minus. lengruanno need for extream case\n",
        "left = 0\n",
        "right = len(arr)-1\n",
        "threshold = (np.max(arr)+np.min(arr))/2\n",
        "Ts = []\n",
        "lastT = 0\n",
        "lastLC_RC = len(arr)+10\n",
        "r = 1\n",
        "for _ in range(100):\n",
        "  LC = 0\n",
        "  RC = 0\n",
        "  for i in arr:\n",
        "    if i<r*threshold:\n",
        "      LC+=1\n",
        "    else:\n",
        "      RC+=1\n",
        "  if abs(LC-RC)>abs(lastLC_RC):\n",
        "    threshold = lastT\n",
        "    break\n",
        "  if 0.45<(max(RC,LC)/(RC+LC))<0.55:\n",
        "    Ts.append(LC-RC)\n",
        "    break\n",
        "  \n",
        "  if LC<RC: \n",
        "    r += 0.2 * abs(LC-RC)/(LC+RC)\n",
        "  elif RC<LC:\n",
        "    r -= 0.2 * abs(LC-RC)/(LC+RC)\n",
        "  # print(abs(LC-RC)/(LC+RC))\n",
        "  Ts.append(LC-RC) #LC-RC is the loss?\n",
        "  lastLC_RC = LC-RC\n",
        "  lastT = threshold\n",
        "pylab.scatter(range(len(Ts)), Ts)\n",
        "pylab.plot(range(len(Ts)), Ts)\n"
      ],
      "metadata": {
        "colab": {
          "base_uri": "https://localhost:8080/",
          "height": 448
        },
        "id": "SZS45wuWSykz",
        "outputId": "a22fd1ae-373f-438a-9c7f-0a6065c30c1f"
      },
      "execution_count": 63,
      "outputs": [
        {
          "output_type": "execute_result",
          "data": {
            "text/plain": [
              "[<matplotlib.lines.Line2D at 0x7f105068ae30>]"
            ]
          },
          "metadata": {},
          "execution_count": 63
        },
        {
          "output_type": "display_data",
          "data": {
            "text/plain": [
              "<Figure size 640x480 with 1 Axes>"
            ],
            "image/png": "[encoded data removed]"
          },
          "metadata": {}
        }
      ]
    },
    {
      "cell_type": "code",
      "source": [],
      "metadata": {
        "id": "0fjCLGneUUJ1"
      },
      "execution_count": null,
      "outputs": []
    }
  ]
}